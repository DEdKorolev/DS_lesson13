{
 "cells": [
  {
   "cell_type": "code",
   "execution_count": 183,
   "outputs": [],
   "source": [
    "import pandas as pd\n",
    "import numpy as np\n",
    "import warnings\n",
    "warnings.filterwarnings('ignore')"
   ],
   "metadata": {
    "collapsed": false,
    "pycharm": {
     "name": "#%%\n"
    }
   }
  },
  {
   "cell_type": "markdown",
   "metadata": {},
   "source": [
    "https://archive.ics.uci.edu/ml/datasets/wine+quality"
   ]
  },
  {
   "cell_type": "code",
   "execution_count": 184,
   "metadata": {},
   "outputs": [
    {
     "data": {
      "text/plain": "   fixed acidity  volatile acidity  citric acid  residual sugar  chlorides  \\\n0            7.4              0.70         0.00             1.9      0.076   \n1            7.8              0.88         0.00             2.6      0.098   \n2            7.8              0.76         0.04             2.3      0.092   \n3           11.2              0.28         0.56             1.9      0.075   \n4            7.4              0.70         0.00             1.9      0.076   \n\n   free sulfur dioxide  total sulfur dioxide  density    pH  sulphates  \\\n0                 11.0                  34.0   0.9978  3.51       0.56   \n1                 25.0                  67.0   0.9968  3.20       0.68   \n2                 15.0                  54.0   0.9970  3.26       0.65   \n3                 17.0                  60.0   0.9980  3.16       0.58   \n4                 11.0                  34.0   0.9978  3.51       0.56   \n\n   alcohol  quality  \n0      9.4        5  \n1      9.8        5  \n2      9.8        5  \n3      9.8        6  \n4      9.4        5  ",
      "text/html": "<div>\n<style scoped>\n    .dataframe tbody tr th:only-of-type {\n        vertical-align: middle;\n    }\n\n    .dataframe tbody tr th {\n        vertical-align: top;\n    }\n\n    .dataframe thead th {\n        text-align: right;\n    }\n</style>\n<table border=\"1\" class=\"dataframe\">\n  <thead>\n    <tr style=\"text-align: right;\">\n      <th></th>\n      <th>fixed acidity</th>\n      <th>volatile acidity</th>\n      <th>citric acid</th>\n      <th>residual sugar</th>\n      <th>chlorides</th>\n      <th>free sulfur dioxide</th>\n      <th>total sulfur dioxide</th>\n      <th>density</th>\n      <th>pH</th>\n      <th>sulphates</th>\n      <th>alcohol</th>\n      <th>quality</th>\n    </tr>\n  </thead>\n  <tbody>\n    <tr>\n      <th>0</th>\n      <td>7.4</td>\n      <td>0.70</td>\n      <td>0.00</td>\n      <td>1.9</td>\n      <td>0.076</td>\n      <td>11.0</td>\n      <td>34.0</td>\n      <td>0.9978</td>\n      <td>3.51</td>\n      <td>0.56</td>\n      <td>9.4</td>\n      <td>5</td>\n    </tr>\n    <tr>\n      <th>1</th>\n      <td>7.8</td>\n      <td>0.88</td>\n      <td>0.00</td>\n      <td>2.6</td>\n      <td>0.098</td>\n      <td>25.0</td>\n      <td>67.0</td>\n      <td>0.9968</td>\n      <td>3.20</td>\n      <td>0.68</td>\n      <td>9.8</td>\n      <td>5</td>\n    </tr>\n    <tr>\n      <th>2</th>\n      <td>7.8</td>\n      <td>0.76</td>\n      <td>0.04</td>\n      <td>2.3</td>\n      <td>0.092</td>\n      <td>15.0</td>\n      <td>54.0</td>\n      <td>0.9970</td>\n      <td>3.26</td>\n      <td>0.65</td>\n      <td>9.8</td>\n      <td>5</td>\n    </tr>\n    <tr>\n      <th>3</th>\n      <td>11.2</td>\n      <td>0.28</td>\n      <td>0.56</td>\n      <td>1.9</td>\n      <td>0.075</td>\n      <td>17.0</td>\n      <td>60.0</td>\n      <td>0.9980</td>\n      <td>3.16</td>\n      <td>0.58</td>\n      <td>9.8</td>\n      <td>6</td>\n    </tr>\n    <tr>\n      <th>4</th>\n      <td>7.4</td>\n      <td>0.70</td>\n      <td>0.00</td>\n      <td>1.9</td>\n      <td>0.076</td>\n      <td>11.0</td>\n      <td>34.0</td>\n      <td>0.9978</td>\n      <td>3.51</td>\n      <td>0.56</td>\n      <td>9.4</td>\n      <td>5</td>\n    </tr>\n  </tbody>\n</table>\n</div>"
     },
     "execution_count": 184,
     "metadata": {},
     "output_type": "execute_result"
    }
   ],
   "source": [
    "link = 'https://archive.ics.uci.edu/ml/machine-learning-databases/wine-quality/winequality-red.csv'\n",
    "data = pd.read_csv(link, sep=';')\n",
    "data.head()"
   ]
  },
  {
   "cell_type": "markdown",
   "metadata": {},
   "source": [
    "1.Оцените качество по метрике accuracy для классификаторов:\n",
    "\n",
    "DecisionTreeClassifier\n",
    "\n",
    "BaggingClassifier со 100 деревьями\n",
    "\n",
    "RandomForestClassifier со 100 деревьями\n",
    "\n",
    "Сравните результаты и напишите какой вывод можно сделать."
   ]
  },
  {
   "cell_type": "code",
   "execution_count": 185,
   "metadata": {},
   "outputs": [],
   "source": [
    "from sklearn.ensemble import RandomForestClassifier, BaggingClassifier\n",
    "from sklearn.tree import DecisionTreeClassifier\n",
    "from sklearn.model_selection import cross_val_score"
   ]
  },
  {
   "cell_type": "code",
   "execution_count": 186,
   "outputs": [],
   "source": [
    "X, y = data.iloc[:,:-1], data.iloc[:,-1]"
   ],
   "metadata": {
    "collapsed": false,
    "pycharm": {
     "name": "#%%\n"
    }
   }
  },
  {
   "cell_type": "code",
   "execution_count": 187,
   "outputs": [
    {
     "data": {
      "text/plain": "   fixed acidity  volatile acidity  citric acid  residual sugar  chlorides  \\\n0            7.4              0.70         0.00             1.9      0.076   \n1            7.8              0.88         0.00             2.6      0.098   \n2            7.8              0.76         0.04             2.3      0.092   \n3           11.2              0.28         0.56             1.9      0.075   \n4            7.4              0.70         0.00             1.9      0.076   \n\n   free sulfur dioxide  total sulfur dioxide  density    pH  sulphates  \\\n0                 11.0                  34.0   0.9978  3.51       0.56   \n1                 25.0                  67.0   0.9968  3.20       0.68   \n2                 15.0                  54.0   0.9970  3.26       0.65   \n3                 17.0                  60.0   0.9980  3.16       0.58   \n4                 11.0                  34.0   0.9978  3.51       0.56   \n\n   alcohol  \n0      9.4  \n1      9.8  \n2      9.8  \n3      9.8  \n4      9.4  ",
      "text/html": "<div>\n<style scoped>\n    .dataframe tbody tr th:only-of-type {\n        vertical-align: middle;\n    }\n\n    .dataframe tbody tr th {\n        vertical-align: top;\n    }\n\n    .dataframe thead th {\n        text-align: right;\n    }\n</style>\n<table border=\"1\" class=\"dataframe\">\n  <thead>\n    <tr style=\"text-align: right;\">\n      <th></th>\n      <th>fixed acidity</th>\n      <th>volatile acidity</th>\n      <th>citric acid</th>\n      <th>residual sugar</th>\n      <th>chlorides</th>\n      <th>free sulfur dioxide</th>\n      <th>total sulfur dioxide</th>\n      <th>density</th>\n      <th>pH</th>\n      <th>sulphates</th>\n      <th>alcohol</th>\n    </tr>\n  </thead>\n  <tbody>\n    <tr>\n      <th>0</th>\n      <td>7.4</td>\n      <td>0.70</td>\n      <td>0.00</td>\n      <td>1.9</td>\n      <td>0.076</td>\n      <td>11.0</td>\n      <td>34.0</td>\n      <td>0.9978</td>\n      <td>3.51</td>\n      <td>0.56</td>\n      <td>9.4</td>\n    </tr>\n    <tr>\n      <th>1</th>\n      <td>7.8</td>\n      <td>0.88</td>\n      <td>0.00</td>\n      <td>2.6</td>\n      <td>0.098</td>\n      <td>25.0</td>\n      <td>67.0</td>\n      <td>0.9968</td>\n      <td>3.20</td>\n      <td>0.68</td>\n      <td>9.8</td>\n    </tr>\n    <tr>\n      <th>2</th>\n      <td>7.8</td>\n      <td>0.76</td>\n      <td>0.04</td>\n      <td>2.3</td>\n      <td>0.092</td>\n      <td>15.0</td>\n      <td>54.0</td>\n      <td>0.9970</td>\n      <td>3.26</td>\n      <td>0.65</td>\n      <td>9.8</td>\n    </tr>\n    <tr>\n      <th>3</th>\n      <td>11.2</td>\n      <td>0.28</td>\n      <td>0.56</td>\n      <td>1.9</td>\n      <td>0.075</td>\n      <td>17.0</td>\n      <td>60.0</td>\n      <td>0.9980</td>\n      <td>3.16</td>\n      <td>0.58</td>\n      <td>9.8</td>\n    </tr>\n    <tr>\n      <th>4</th>\n      <td>7.4</td>\n      <td>0.70</td>\n      <td>0.00</td>\n      <td>1.9</td>\n      <td>0.076</td>\n      <td>11.0</td>\n      <td>34.0</td>\n      <td>0.9978</td>\n      <td>3.51</td>\n      <td>0.56</td>\n      <td>9.4</td>\n    </tr>\n  </tbody>\n</table>\n</div>"
     },
     "execution_count": 187,
     "metadata": {},
     "output_type": "execute_result"
    }
   ],
   "source": [
    "X.head()"
   ],
   "metadata": {
    "collapsed": false,
    "pycharm": {
     "name": "#%%\n"
    }
   }
  },
  {
   "cell_type": "code",
   "execution_count": 188,
   "outputs": [
    {
     "data": {
      "text/plain": "0    5\n1    5\n2    5\n3    6\n4    5\nName: quality, dtype: int64"
     },
     "execution_count": 188,
     "metadata": {},
     "output_type": "execute_result"
    }
   ],
   "source": [
    "y.head()"
   ],
   "metadata": {
    "collapsed": false,
    "pycharm": {
     "name": "#%%\n"
    }
   }
  },
  {
   "cell_type": "code",
   "execution_count": 189,
   "outputs": [],
   "source": [
    "def cross_val_scoring(reg, scoring):\n",
    "    scores = cross_val_score(reg, X, y, cv=3, scoring=scoring)\n",
    "    print('%.7f' % scores.mean())"
   ],
   "metadata": {
    "collapsed": false,
    "pycharm": {
     "name": "#%%\n"
    }
   }
  },
  {
   "cell_type": "code",
   "execution_count": 190,
   "outputs": [
    {
     "name": "stdout",
     "output_type": "stream",
     "text": [
      "0.4446529\n"
     ]
    }
   ],
   "source": [
    "cross_val_scoring(DecisionTreeClassifier(), 'accuracy')"
   ],
   "metadata": {
    "collapsed": false,
    "pycharm": {
     "name": "#%%\n"
    }
   }
  },
  {
   "cell_type": "code",
   "execution_count": 191,
   "outputs": [
    {
     "name": "stdout",
     "output_type": "stream",
     "text": [
      "0.5553471\n"
     ]
    }
   ],
   "source": [
    "cross_val_scoring(BaggingClassifier(n_estimators=100), 'accuracy')"
   ],
   "metadata": {
    "collapsed": false,
    "pycharm": {
     "name": "#%%\n"
    }
   }
  },
  {
   "cell_type": "code",
   "execution_count": 192,
   "outputs": [
    {
     "name": "stdout",
     "output_type": "stream",
     "text": [
      "0.5666041\n"
     ]
    }
   ],
   "source": [
    "cross_val_scoring(RandomForestClassifier(n_estimators=100), 'accuracy')"
   ],
   "metadata": {
    "collapsed": false,
    "pycharm": {
     "name": "#%%\n"
    }
   }
  },
  {
   "cell_type": "markdown",
   "source": [
    "RandomForestClassifier() показал лучший результат"
   ],
   "metadata": {
    "collapsed": false,
    "pycharm": {
     "name": "#%% md\n"
    }
   }
  },
  {
   "cell_type": "markdown",
   "metadata": {},
   "source": [
    "2.Разделите выборку на обучающую и тестовую в отношении 70%/30%"
   ]
  },
  {
   "cell_type": "code",
   "execution_count": 193,
   "metadata": {},
   "outputs": [],
   "source": [
    "from sklearn.model_selection import train_test_split\n",
    "\n",
    "X_train, X_test, y_train, y_test = train_test_split(X, y,\n",
    "                                                    train_size=0.7)"
   ]
  },
  {
   "cell_type": "markdown",
   "metadata": {},
   "source": [
    "3.Посчитайте качество на тестовой выборке по метрике accuracy для классификатора RandomForestClassifier, используя значения деревьев:\n",
    "    \n",
    "10, 50, 100, 200, далее с шагом 200 до 5000 деревьев.\n",
    "Постройте график зависимости качества от числа деревьев.\n",
    "\n"
   ]
  },
  {
   "cell_type": "code",
   "execution_count": 194,
   "metadata": {},
   "outputs": [],
   "source": [
    "from matplotlib import pyplot as plt\n",
    "from sklearn.metrics import accuracy_score"
   ]
  },
  {
   "cell_type": "code",
   "execution_count": 195,
   "outputs": [
    {
     "data": {
      "text/plain": "[10,\n 50,\n 100,\n 200,\n 400,\n 600,\n 800,\n 1000,\n 1200,\n 1400,\n 1600,\n 1800,\n 2000,\n 2200,\n 2400,\n 2600,\n 2800,\n 3000,\n 3200,\n 3400,\n 3600,\n 3800,\n 4000,\n 4200,\n 4400,\n 4600,\n 4800,\n 5000]"
     },
     "execution_count": 195,
     "metadata": {},
     "output_type": "execute_result"
    }
   ],
   "source": [
    "trees = [10, 50, 100] + [i for i in range(200,5001,200)]\n",
    "scores = []\n",
    "trees"
   ],
   "metadata": {
    "collapsed": false,
    "pycharm": {
     "name": "#%%\n"
    }
   }
  },
  {
   "cell_type": "code",
   "execution_count": 196,
   "outputs": [
    {
     "data": {
      "text/plain": "    trees    scores\n0      10  0.625000\n1      50  0.666667\n2     100  0.643750\n3     200  0.645833\n4     400  0.662500\n5     600  0.654167\n6     800  0.650000\n7    1000  0.654167\n8    1200  0.647917\n9    1400  0.652083\n10   1600  0.650000\n11   1800  0.652083\n12   2000  0.654167\n13   2200  0.647917\n14   2400  0.650000\n15   2600  0.652083\n16   2800  0.652083\n17   3000  0.656250\n18   3200  0.654167\n19   3400  0.654167\n20   3600  0.650000\n21   3800  0.654167\n22   4000  0.650000\n23   4200  0.656250\n24   4400  0.645833\n25   4600  0.652083\n26   4800  0.645833\n27   5000  0.652083",
      "text/html": "<div>\n<style scoped>\n    .dataframe tbody tr th:only-of-type {\n        vertical-align: middle;\n    }\n\n    .dataframe tbody tr th {\n        vertical-align: top;\n    }\n\n    .dataframe thead th {\n        text-align: right;\n    }\n</style>\n<table border=\"1\" class=\"dataframe\">\n  <thead>\n    <tr style=\"text-align: right;\">\n      <th></th>\n      <th>trees</th>\n      <th>scores</th>\n    </tr>\n  </thead>\n  <tbody>\n    <tr>\n      <th>0</th>\n      <td>10</td>\n      <td>0.625000</td>\n    </tr>\n    <tr>\n      <th>1</th>\n      <td>50</td>\n      <td>0.666667</td>\n    </tr>\n    <tr>\n      <th>2</th>\n      <td>100</td>\n      <td>0.643750</td>\n    </tr>\n    <tr>\n      <th>3</th>\n      <td>200</td>\n      <td>0.645833</td>\n    </tr>\n    <tr>\n      <th>4</th>\n      <td>400</td>\n      <td>0.662500</td>\n    </tr>\n    <tr>\n      <th>5</th>\n      <td>600</td>\n      <td>0.654167</td>\n    </tr>\n    <tr>\n      <th>6</th>\n      <td>800</td>\n      <td>0.650000</td>\n    </tr>\n    <tr>\n      <th>7</th>\n      <td>1000</td>\n      <td>0.654167</td>\n    </tr>\n    <tr>\n      <th>8</th>\n      <td>1200</td>\n      <td>0.647917</td>\n    </tr>\n    <tr>\n      <th>9</th>\n      <td>1400</td>\n      <td>0.652083</td>\n    </tr>\n    <tr>\n      <th>10</th>\n      <td>1600</td>\n      <td>0.650000</td>\n    </tr>\n    <tr>\n      <th>11</th>\n      <td>1800</td>\n      <td>0.652083</td>\n    </tr>\n    <tr>\n      <th>12</th>\n      <td>2000</td>\n      <td>0.654167</td>\n    </tr>\n    <tr>\n      <th>13</th>\n      <td>2200</td>\n      <td>0.647917</td>\n    </tr>\n    <tr>\n      <th>14</th>\n      <td>2400</td>\n      <td>0.650000</td>\n    </tr>\n    <tr>\n      <th>15</th>\n      <td>2600</td>\n      <td>0.652083</td>\n    </tr>\n    <tr>\n      <th>16</th>\n      <td>2800</td>\n      <td>0.652083</td>\n    </tr>\n    <tr>\n      <th>17</th>\n      <td>3000</td>\n      <td>0.656250</td>\n    </tr>\n    <tr>\n      <th>18</th>\n      <td>3200</td>\n      <td>0.654167</td>\n    </tr>\n    <tr>\n      <th>19</th>\n      <td>3400</td>\n      <td>0.654167</td>\n    </tr>\n    <tr>\n      <th>20</th>\n      <td>3600</td>\n      <td>0.650000</td>\n    </tr>\n    <tr>\n      <th>21</th>\n      <td>3800</td>\n      <td>0.654167</td>\n    </tr>\n    <tr>\n      <th>22</th>\n      <td>4000</td>\n      <td>0.650000</td>\n    </tr>\n    <tr>\n      <th>23</th>\n      <td>4200</td>\n      <td>0.656250</td>\n    </tr>\n    <tr>\n      <th>24</th>\n      <td>4400</td>\n      <td>0.645833</td>\n    </tr>\n    <tr>\n      <th>25</th>\n      <td>4600</td>\n      <td>0.652083</td>\n    </tr>\n    <tr>\n      <th>26</th>\n      <td>4800</td>\n      <td>0.645833</td>\n    </tr>\n    <tr>\n      <th>27</th>\n      <td>5000</td>\n      <td>0.652083</td>\n    </tr>\n  </tbody>\n</table>\n</div>"
     },
     "execution_count": 196,
     "metadata": {},
     "output_type": "execute_result"
    }
   ],
   "source": [
    "for tree in trees:\n",
    "    model = RandomForestClassifier(n_estimators=tree, n_jobs=-1).fit(X_train, y_train)\n",
    "    y_pred = model.predict(X_test)\n",
    "    scores.append(accuracy_score(y_test, y_pred))\n",
    "df = pd.DataFrame({'trees' : trees, 'scores' : scores})\n",
    "df"
   ],
   "metadata": {
    "collapsed": false,
    "pycharm": {
     "name": "#%%\n"
    }
   }
  },
  {
   "cell_type": "code",
   "execution_count": 197,
   "outputs": [
    {
     "data": {
      "text/plain": "<Figure size 432x288 with 1 Axes>",
      "image/png": "[encoded data removed]"
     },
     "metadata": {
      "needs_background": "light"
     },
     "output_type": "display_data"
    }
   ],
   "source": [
    "plt.plot(df.trees, df.scores)\n",
    "plt.show()"
   ],
   "metadata": {
    "collapsed": false,
    "pycharm": {
     "name": "#%%\n"
    }
   }
  },
  {
   "cell_type": "markdown",
   "metadata": {},
   "source": [
    "4.Обучите реализации градиентного бустинга с параметрами по умолчанию из библиотек sklearn и xgboost. Сравните значение метрики accuracy по cross_val_score"
   ]
  },
  {
   "cell_type": "code",
   "execution_count": 198,
   "metadata": {},
   "outputs": [],
   "source": [
    "from sklearn.ensemble import GradientBoostingClassifier\n",
    "from xgboost import XGBClassifier\n",
    "from sklearn.preprocessing import LabelEncoder"
   ]
  },
  {
   "cell_type": "code",
   "execution_count": 199,
   "outputs": [
    {
     "data": {
      "text/plain": "0.5384615384615384"
     },
     "execution_count": 199,
     "metadata": {},
     "output_type": "execute_result"
    }
   ],
   "source": [
    "cross_val_score(GradientBoostingClassifier(), X, y, cv=3, scoring ='accuracy').mean()"
   ],
   "metadata": {
    "collapsed": false,
    "pycharm": {
     "name": "#%%\n"
    }
   }
  },
  {
   "cell_type": "code",
   "execution_count": 200,
   "outputs": [
    {
     "data": {
      "text/plain": "0.5284552845528455"
     },
     "execution_count": 200,
     "metadata": {},
     "output_type": "execute_result"
    }
   ],
   "source": [
    "le = LabelEncoder()\n",
    "y_1 = le.fit_transform(y)\n",
    "cross_val_score(XGBClassifier(), X, y_1, cv=3, scoring ='accuracy').mean()"
   ],
   "metadata": {
    "collapsed": false,
    "pycharm": {
     "name": "#%%\n"
    }
   }
  },
  {
   "cell_type": "markdown",
   "source": [
    "GradientBoostingClassifier() с параметрами по умолчанию показывает результат немного лучше"
   ],
   "metadata": {
    "collapsed": false,
    "pycharm": {
     "name": "#%% md\n"
    }
   }
  },
  {
   "cell_type": "markdown",
   "metadata": {},
   "source": [
    "5.Подберите оптимальные параметры этих алгоритмов с помощью GridSearchCV(cv=3).\n",
    "Параметры для оптимизации:\n",
    "\n",
    "оптимизируемый функционал\n",
    "\n",
    "скорость обучения\n",
    "\n",
    "количество деревьев\n",
    "\n",
    "глубина деревьев\n",
    "\n",
    "Сравните значение метрики accuracy и скорость работы. Выведите лучшие параметры алгоритмов."
   ]
  },
  {
   "cell_type": "code",
   "execution_count": 201,
   "metadata": {},
   "outputs": [],
   "source": [
    "from sklearn.model_selection import GridSearchCV"
   ]
  },
  {
   "cell_type": "code",
   "execution_count": 202,
   "outputs": [],
   "source": [
    "parameters = {'learning_rate': np.linspace(0.01,1,10),\n",
    "                  'n_estimators' : range (1, 10),\n",
    "                  'max_depth'    : range (1, 10)\n",
    "                 }"
   ],
   "metadata": {
    "collapsed": false,
    "pycharm": {
     "name": "#%%\n"
    }
   }
  },
  {
   "cell_type": "code",
   "execution_count": 203,
   "outputs": [],
   "source": [
    "def search_best_params(model, param_grid, X, y):\n",
    "    grid_search  = GridSearchCV(model, param_grid = param_grid, cv = 3, n_jobs=-1)\n",
    "    %time grid_search.fit(X, y)\n",
    "    print(grid_search.best_params_)\n",
    "    cross_val = cross_val_score(model, X, y, cv=3, scoring ='accuracy').mean()\n",
    "    print(f'accuracy: {cross_val}')"
   ],
   "metadata": {
    "collapsed": false,
    "pycharm": {
     "name": "#%%\n"
    }
   }
  },
  {
   "cell_type": "code",
   "execution_count": 204,
   "outputs": [
    {
     "name": "stdout",
     "output_type": "stream",
     "text": [
      "CPU times: total: 10.1 s\n",
      "Wall time: 1min 15s\n",
      "{'learning_rate': 0.23, 'max_depth': 2, 'n_estimators': 8}\n",
      "accuracy: 0.5409631019387117\n"
     ]
    }
   ],
   "source": [
    "search_best_params(GradientBoostingClassifier(), parameters, X, y)"
   ],
   "metadata": {
    "collapsed": false,
    "pycharm": {
     "name": "#%%\n"
    }
   }
  },
  {
   "cell_type": "code",
   "execution_count": 205,
   "outputs": [
    {
     "name": "stdout",
     "output_type": "stream",
     "text": [
      "CPU times: total: 5.47 s\n",
      "Wall time: 20.9 s\n",
      "{'learning_rate': 0.78, 'max_depth': 3, 'n_estimators': 4}\n",
      "accuracy: 0.5284552845528455\n"
     ]
    }
   ],
   "source": [
    "search_best_params(XGBClassifier(), parameters, X, y_1)"
   ],
   "metadata": {
    "collapsed": false,
    "pycharm": {
     "name": "#%%\n"
    }
   }
  },
  {
   "cell_type": "markdown",
   "metadata": {},
   "source": [
    "6.Обучите реализации градиентного бустинга с параметрами по умолчанию из библиотек lightgbm и catboost. Сравните значение метрики accuracy по cross_val_score по всем четырем реализациям."
   ]
  },
  {
   "cell_type": "code",
   "execution_count": 206,
   "metadata": {},
   "outputs": [],
   "source": [
    "from lightgbm import LGBMClassifier\n",
    "from catboost import CatBoostClassifier"
   ]
  },
  {
   "cell_type": "code",
   "execution_count": 207,
   "outputs": [
    {
     "data": {
      "text/plain": "0.5397123202001252"
     },
     "execution_count": 207,
     "metadata": {},
     "output_type": "execute_result"
    }
   ],
   "source": [
    "cross_val_score(GradientBoostingClassifier(), X, y, cv=3, scoring ='accuracy').mean()"
   ],
   "metadata": {
    "collapsed": false,
    "pycharm": {
     "name": "#%%\n"
    }
   }
  },
  {
   "cell_type": "code",
   "execution_count": 208,
   "outputs": [
    {
     "data": {
      "text/plain": "0.5284552845528455"
     },
     "execution_count": 208,
     "metadata": {},
     "output_type": "execute_result"
    }
   ],
   "source": [
    "cross_val_score(XGBClassifier(), X, y_1, cv=3, scoring ='accuracy').mean()"
   ],
   "metadata": {
    "collapsed": false,
    "pycharm": {
     "name": "#%%\n"
    }
   }
  },
  {
   "cell_type": "code",
   "execution_count": 209,
   "outputs": [
    {
     "data": {
      "text/plain": "0.5284552845528455"
     },
     "execution_count": 209,
     "metadata": {},
     "output_type": "execute_result"
    }
   ],
   "source": [
    "cross_val_score(LGBMClassifier(), X, y, cv=3, scoring ='accuracy').mean()"
   ],
   "metadata": {
    "collapsed": false,
    "pycharm": {
     "name": "#%%\n"
    }
   }
  },
  {
   "cell_type": "code",
   "execution_count": 210,
   "outputs": [
    {
     "data": {
      "text/plain": "0.5328330206378987"
     },
     "execution_count": 210,
     "metadata": {},
     "output_type": "execute_result"
    }
   ],
   "source": [
    "cross_val_score(CatBoostClassifier(verbose=False), X, y, cv=3, scoring ='accuracy').mean()"
   ],
   "metadata": {
    "collapsed": false,
    "pycharm": {
     "name": "#%%\n"
    }
   }
  },
  {
   "cell_type": "markdown",
   "source": [
    "GradientBoostingClassifier показывает лучший результат. XGBClassifier и LGBMClassifier показали абсолютно одинаковые результаты"
   ],
   "metadata": {
    "collapsed": false
   }
  },
  {
   "cell_type": "markdown",
   "metadata": {},
   "source": [
    "7.Подберите оптимальные параметры для алгоритмов градиентного бустинга из библиотек lightgbm и catboost с теми же условиями. Выведите лучшие параметры алгоритмов.\n",
    "Сравните значение метрики accuracy и скорость по этим четырем реализациям."
   ]
  },
  {
   "cell_type": "code",
   "execution_count": 211,
   "metadata": {},
   "outputs": [
    {
     "name": "stdout",
     "output_type": "stream",
     "text": [
      "CPU times: total: 2.52 s\n",
      "Wall time: 7.87 s\n",
      "{'learning_rate': 0.23, 'max_depth': 3, 'n_estimators': 7}\n",
      "accuracy: 0.5284552845528455\n"
     ]
    }
   ],
   "source": [
    "search_best_params(LGBMClassifier(), parameters, X, y)"
   ]
  },
  {
   "cell_type": "code",
   "execution_count": 212,
   "outputs": [
    {
     "name": "stdout",
     "output_type": "stream",
     "text": [
      "CPU times: total: 9.5 s\n",
      "Wall time: 1min 22s\n",
      "{'learning_rate': 0.34, 'max_depth': 5, 'n_estimators': 8}\n",
      "accuracy: 0.5328330206378987\n"
     ]
    }
   ],
   "source": [
    "search_best_params(CatBoostClassifier(verbose=False), parameters, X, y)"
   ],
   "metadata": {
    "collapsed": false,
    "pycharm": {
     "name": "#%%\n"
    }
   }
  },
  {
   "cell_type": "markdown",
   "source": [
    "LGBMClassifier самый быстрый. CatBoostClassifier самый медленный"
   ],
   "metadata": {
    "collapsed": false
   }
  },
  {
   "cell_type": "markdown",
   "metadata": {},
   "source": [
    "8.Подберите оптимальные параметры алгоритма из библиотеки xgbost с помощью [hyperopt](https://github.com/hyperopt/hyperopt) . Параметры для оптимизации:\n",
    "\n",
    "оптимизируемый функционал\n",
    "\n",
    "скорость обучения\n",
    "\n",
    "количество деревьев\n",
    "\n",
    "глубина деревьев\n",
    "\n",
    "Сравните результат с поиском по сетке из sklearn. Выведите лучшие параметры алгоритма, найденные даным способом."
   ]
  },
  {
   "cell_type": "code",
   "execution_count": 213,
   "metadata": {},
   "outputs": [],
   "source": [
    "from hyperopt import hp, tpe\n",
    "from hyperopt.fmin import fmin"
   ]
  },
  {
   "cell_type": "code",
   "execution_count": 214,
   "outputs": [
    {
     "name": "stdout",
     "output_type": "stream",
     "text": [
      "0.551594746716698 {'learning_rate': 0.6161950760241054, 'max_depth': 6, 'n_estimators': 4}\n",
      "0.541588492808005 {'learning_rate': 0.9534599443212952, 'max_depth': 4, 'n_estimators': 4}\n",
      "0.559724828017511 {'learning_rate': 0.2883596775266022, 'max_depth': 8, 'n_estimators': 7}\n",
      "0.551594746716698 {'learning_rate': 0.30793678827091187, 'max_depth': 6, 'n_estimators': 9}\n",
      "0.5590994371482175 {'learning_rate': 0.22774168216674076, 'max_depth': 5, 'n_estimators': 2}\n",
      "0.5522201375859912 {'learning_rate': 0.7914619297144444, 'max_depth': 4, 'n_estimators': 1}\n",
      "0.5628517823639775 {'learning_rate': 0.5919171931511564, 'max_depth': 3, 'n_estimators': 8}\n",
      "0.5747342088805504 {'learning_rate': 0.5422387848949046, 'max_depth': 2, 'n_estimators': 6}\n",
      "0.5440900562851781 {'learning_rate': 0.44343744150287656, 'max_depth': 1, 'n_estimators': 1}\n",
      "0.5447154471544715 {'learning_rate': 0.8516298292099501, 'max_depth': 8, 'n_estimators': 2}\n",
      "best:\n",
      "{'learning_rate': 0.5422387848949046, 'max_depth': 1, 'n_estimators': 5}\n"
     ]
    }
   ],
   "source": [
    "def hyperopt_xgb_score(params):\n",
    "    clf = XGBClassifier(**params)\n",
    "    current_score = cross_val_score(clf, X, y_1, cv=3).mean()\n",
    "    print(current_score, params)\n",
    "    return -current_score\n",
    "\n",
    "\n",
    "simple_space_xgb = {\n",
    "            'n_estimators': hp.choice('n_estimators', range(1, 10, 1)),\n",
    "            'learning_rate': hp.uniform('learning_rate', 0.01, 1),\n",
    "            'max_depth':  hp.choice('max_depth', range(1, 10, 1)),\n",
    "}\n",
    "\n",
    "best = fmin(fn=hyperopt_xgb_score, space=simple_space_xgb, algo=tpe.suggest, max_evals=10, verbose=False)\n",
    "print('best:')\n",
    "print(best)"
   ],
   "metadata": {
    "collapsed": false,
    "pycharm": {
     "name": "#%%\n"
    }
   }
  },
  {
   "cell_type": "markdown",
   "metadata": {},
   "source": [
    "9.Выведите качество по метрике accuracy стэкинга (StackingClassifier) 4-х алгоритмов с базовыми параметрами градиентного бустинга."
   ]
  },
  {
   "cell_type": "code",
   "execution_count": 215,
   "metadata": {},
   "outputs": [],
   "source": [
    "from sklearn.ensemble import StackingClassifier"
   ]
  },
  {
   "cell_type": "code",
   "execution_count": 223,
   "outputs": [
    {
     "name": "stdout",
     "output_type": "stream",
     "text": [
      "CPU times: total: 15.6 ms\n",
      "Wall time: 1min 19s\n"
     ]
    },
    {
     "data": {
      "text/plain": "0.5741088180112571"
     },
     "execution_count": 223,
     "metadata": {},
     "output_type": "execute_result"
    }
   ],
   "source": [
    "estimators = [\n",
    "    ('cbc', CatBoostClassifier()),\n",
    "    ('lgbmc', LGBMClassifier()),\n",
    "    ('gbc', GradientBoostingClassifier()),\n",
    "    ('xgbc', XGBClassifier())\n",
    "]\n",
    "stacked = StackingClassifier(estimators=estimators)\n",
    "%time cross_val_score(stacked, X, y, scoring='accuracy', cv=3, n_jobs=-1).mean()"
   ],
   "metadata": {
    "collapsed": false,
    "pycharm": {
     "name": "#%%\n"
    }
   }
  },
  {
   "cell_type": "markdown",
   "metadata": {},
   "source": [
    "10.Выведите качество по метрике accuracy стэкинга 4-х алгоритмов с оптимальными параметрами градиентного бустинга. Сравните результаты с предыдущим шагом и напишите какой вывод можно из этого сделать."
   ]
  },
  {
   "cell_type": "code",
   "execution_count": 224,
   "metadata": {},
   "outputs": [
    {
     "name": "stdout",
     "output_type": "stream",
     "text": [
      "CPU times: total: 15.6 ms\n",
      "Wall time: 5.17 s\n"
     ]
    },
    {
     "data": {
      "text/plain": "0.5797373358348968"
     },
     "execution_count": 224,
     "metadata": {},
     "output_type": "execute_result"
    }
   ],
   "source": [
    "estimators = [\n",
    "    ('cbc', CatBoostClassifier(learning_rate=0.34, max_depth=5, n_estimators=8)),\n",
    "    ('lgbmc', LGBMClassifier(learning_rate=0.23, max_depth=3, n_estimators=7)),\n",
    "    ('gbc', GradientBoostingClassifier(learning_rate=0.23, max_depth=2, n_estimators=8)),\n",
    "    ('xgbc', XGBClassifier(learning_rate=0.78, max_depth=3, n_estimators=4))\n",
    "]\n",
    "stacked = StackingClassifier(estimators=estimators)\n",
    "%time cross_val_score(stacked, X, y, scoring='accuracy', cv=3, n_jobs=-1).mean()"
   ]
  },
  {
   "cell_type": "markdown",
   "source": [
    "Результат стал немного лучше. В данном случае это не особо показательно. А вот скорость выполнения выросла очень существенно."
   ],
   "metadata": {
    "collapsed": false,
    "pycharm": {
     "name": "#%% md\n"
    }
   }
  }
 ],
 "metadata": {
  "kernelspec": {
   "name": "python3",
   "language": "python",
   "display_name": "Python 3 (ipykernel)"
  },
  "language_info": {
   "codemirror_mode": {
    "name": "ipython",
    "version": 3
   },
   "file_extension": ".py",
   "mimetype": "text/x-python",
   "name": "python",
   "nbconvert_exporter": "python",
   "pygments_lexer": "ipython3",
   "version": "3.7.6"
  }
 },
 "nbformat": 4,
 "nbformat_minor": 2
}